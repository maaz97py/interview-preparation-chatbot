{
 "cells": [
  {
   "cell_type": "markdown",
   "metadata": {},
   "source": [
    "**Speech to text with Openai whisper**\n",
    "\n",
    "Author: Abdulmateen Ashifa"
   ]
  },
  {
   "cell_type": "code",
   "execution_count": null,
   "metadata": {},
   "outputs": [],
   "source": [
    "# !pip install openai\n",
    "# !pip install pyaudio"
   ]
  },
  {
   "cell_type": "code",
   "execution_count": null,
   "metadata": {},
   "outputs": [],
   "source": [
    "from openai import OpenAI\n",
    "import pyaudio\n",
    "import wave\n"
   ]
  },
  {
   "cell_type": "code",
   "execution_count": null,
   "metadata": {},
   "outputs": [],
   "source": [
    "OPENAI_API_KEY = 'YOUR_API_KEY'"
   ]
  },
  {
   "cell_type": "code",
   "execution_count": null,
   "metadata": {},
   "outputs": [],
   "source": [
    "class AudioRecorder:\n",
    "    def __init__(self, file_path, duration=5, sample_rate=44100, channels=1, format=pyaudio.paInt16):\n",
    "        self.file_path = file_path\n",
    "        self.duration = duration\n",
    "        self.sample_rate = sample_rate\n",
    "        self.channels = channels\n",
    "        self.format = format\n",
    "        self.p = pyaudio.PyAudio()\n",
    "\n",
    "    def record_and_save_audio(self):\n",
    "        try:\n",
    "            stream = self.p.open(format=self.format,\n",
    "                                channels=self.channels,\n",
    "                                rate=self.sample_rate,\n",
    "                                input=True,\n",
    "                                frames_per_buffer=1024)\n",
    "\n",
    "            print(\"Recording...\")\n",
    "\n",
    "            frames = []\n",
    "\n",
    "            for i in range(0, int(self.sample_rate / 1024 * self.duration)):\n",
    "                data = stream.read(1024)\n",
    "                frames.append(data)\n",
    "\n",
    "            print(\"Recording finished.\")\n",
    "\n",
    "            stream.stop_stream()\n",
    "            stream.close()\n",
    "\n",
    "            wf = wave.open(self.file_path, 'wb')\n",
    "            wf.setnchannels(self.channels)\n",
    "            wf.setsampwidth(self.p.get_sample_size(self.format))\n",
    "            wf.setframerate(self.sample_rate)\n",
    "            wf.writeframes(b''.join(frames))\n",
    "            wf.close()\n",
    "\n",
    "            print(f\"Audio saved to {self.file_path}\")\n",
    "\n",
    "        except Exception as e:\n",
    "            print(f\"An error occurred: {e}\")\n",
    "\n",
    "        finally:\n",
    "            self.p.terminate()\n",
    "\n",
    "file_path = \"recorded_audio.wav\"\n",
    "recorder = AudioRecorder(file_path, duration=5)\n",
    "recorder.record_and_save_audio()\n"
   ]
  },
  {
   "cell_type": "code",
   "execution_count": null,
   "metadata": {},
   "outputs": [],
   "source": [
    "class SpeechTranscriber:\n",
    "    def __init__(self, api_key, model=\"whisper-1\"):\n",
    "        self.client = OpenAI(api_key=api_key)\n",
    "        self.model = model\n",
    "\n",
    "    def transcribe_speech_to_text(self, audio_path):\n",
    "        try:\n",
    "            with open(audio_path, \"rb\") as audio_file:\n",
    "                transcript = self.client.audio.transcriptions.create(\n",
    "                    model=self.model,\n",
    "                    file=audio_file\n",
    "                )\n",
    "                print(transcript)\n",
    "        except Exception as e:\n",
    "            print(f\"An error occurred during transcription: {e}\")\n",
    "\n"
   ]
  },
  {
   "cell_type": "code",
   "execution_count": null,
   "metadata": {},
   "outputs": [],
   "source": [
    "\n",
    "transcriber = SpeechTranscriber(api_key=OPENAI_API_KEY)\n",
    "transcriber.transcribe_speech_to_text(file_path)"
   ]
  },
  {
   "cell_type": "code",
   "execution_count": null,
   "metadata": {},
   "outputs": [],
   "source": []
  }
 ],
 "metadata": {
  "kernelspec": {
   "display_name": "Python 3 (ipykernel)",
   "language": "python",
   "name": "python3"
  },
  "language_info": {
   "codemirror_mode": {
    "name": "ipython",
    "version": 3
   },
   "file_extension": ".py",
   "mimetype": "text/x-python",
   "name": "python",
   "nbconvert_exporter": "python",
   "pygments_lexer": "ipython3",
   "version": "3.9.15"
  }
 },
 "nbformat": 4,
 "nbformat_minor": 2
}
